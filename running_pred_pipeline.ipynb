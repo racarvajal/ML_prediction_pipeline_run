{
 "cells": [
  {
   "cell_type": "markdown",
   "metadata": {},
   "source": [
    "# Run prediction pipeline for radio-detectable AGN"
   ]
  },
  {
   "cell_type": "markdown",
   "metadata": {},
   "source": [
    "Jupyter Notebook to run the prediction pipeline presented in Carvajal et al., 2023.\n",
    "\n",
    "Example code uses data from IR-detected sources in either HETDEX Spring field or Stripe 82."
   ]
  },
  {
   "cell_type": "code",
   "execution_count": null,
   "metadata": {},
   "outputs": [],
   "source": [
    "%matplotlib inline\n",
    "# Static plots\n",
    "import numpy as np\n",
    "from pycaret import classification as pyc\n",
    "from pycaret import regression as pyr\n",
    "from joblib import load\n",
    "import pandas as pd\n",
    "import global_variables as gv\n",
    "import global_functions as gf\n",
    "import os\n",
    "import subprocess"
   ]
  },
  {
   "cell_type": "markdown",
   "metadata": {},
   "source": [
    "### Reading data"
   ]
  },
  {
   "cell_type": "markdown",
   "metadata": {},
   "source": [
    "Select the field to predict sources."
   ]
  },
  {
   "cell_type": "code",
   "execution_count": null,
   "metadata": {},
   "outputs": [],
   "source": [
    "used_field = 'HETDEX'  # 'HETDEX' or 'S82'"
   ]
  },
  {
   "cell_type": "code",
   "execution_count": null,
   "metadata": {},
   "outputs": [],
   "source": [
    "file_name_dict      = {'S82': gv.file_S82, 'HETDEX': gv.file_HETDEX}\n",
    "file_name           = gv.model_path + file_name_dict[used_field]"
   ]
  },
  {
   "cell_type": "markdown",
   "metadata": {},
   "source": [
    "Check that data files have been downloaded."
   ]
  },
  {
   "cell_type": "code",
   "execution_count": null,
   "metadata": {},
   "outputs": [],
   "source": [
    "if not os.path.exists(file_name):\n",
    "    subprocess.run(['wget', '--no-check-certificate',\n",
    "                    'https://zenodo.org/' + file_name_dict[used_field],\n",
    "                    '-O', file_name], check=True, text=True)"
   ]
  },
  {
   "cell_type": "markdown",
   "metadata": {},
   "source": [
    "For this notebook, not all columns will be needed. Select those that will be used."
   ]
  },
  {
   "cell_type": "code",
   "execution_count": null,
   "metadata": {},
   "outputs": [],
   "source": [
    "used_cols = ['Z', 'band_num', 'class', 'W1mproPM', 'W2mproPM', 'gmag', 'rmag', 'imag', 'zmag', 'ymag', 'W3mag', 'W4mag', 'Jmag', 'Hmag', 'Kmag', 'LOFAR_detect', 'radio_AGN']"
   ]
  },
  {
   "cell_type": "markdown",
   "metadata": {},
   "source": [
    "Load file"
   ]
  },
  {
   "cell_type": "code",
   "execution_count": null,
   "metadata": {},
   "outputs": [],
   "source": [
    "data_df = pd.read_parquet(file_name, \n",
    "                          engine='fastparquet', \n",
    "                          columns=used_cols)"
   ]
  },
  {
   "cell_type": "markdown",
   "metadata": {},
   "source": [
    "Create new columns with colours. Only create colours used by models in pipeline. They are listed in the article."
   ]
  },
  {
   "cell_type": "code",
   "execution_count": null,
   "metadata": {},
   "outputs": [],
   "source": [
    "colours_AGN   = ['g_r', 'r_i', 'r_J', 'i_z', 'i_y', 'z_y', 'z_W2', 'y_J', 'y_W1', 'y_W2', 'J_H', 'H_K', 'H_W3', 'W1_W2', 'W1_W3', 'W3_W4']\n",
    "colours_radio = ['g_r', 'g_i', 'r_i', 'r_z', 'i_z', 'z_y', 'z_W1', 'y_J', 'y_W1', 'J_H', 'H_K', 'K_W3', 'K_W4', 'W1_W2', 'W2_W3']\n",
    "colours_z     = ['g_r', 'g_W3', 'r_i', 'r_z', 'i_z', 'i_y', 'z_y', 'y_J', 'y_W1', 'J_H', 'H_K', 'K_W3', 'K_W4', 'W1_W2', 'W2_W3']\n",
    "    \n",
    "new_colours   = list(np.unique(colours_AGN + colours_radio + colours_z))"
   ]
  },
  {
   "cell_type": "code",
   "execution_count": null,
   "metadata": {},
   "outputs": [],
   "source": [
    "mag_names = {'g': 'gmag', 'r': 'rmag', 'i':'imag', 'z': 'zmag', 'y': 'ymag', 'J': 'Jmag', 'H': 'Hmag', 'K': 'Kmag', 'W1': 'W1mproPM', 'W2': 'W2mproPM', 'W3': 'W3mag', 'W4': 'W4mag'}"
   ]
  },
  {
   "cell_type": "code",
   "execution_count": null,
   "metadata": {},
   "outputs": [],
   "source": [
    "for colour in new_colours:\n",
    "    mag_a_str, mag_b_str = colour.split('_')\n",
    "    new_col = data_df.loc[:, mag_names[mag_a_str]] - data_df.loc[:, mag_names[mag_b_str]]\n",
    "    data_df[colour] = new_col"
   ]
  },
  {
   "cell_type": "markdown",
   "metadata": {},
   "source": [
    "Load models"
   ]
  },
  {
   "cell_type": "markdown",
   "metadata": {},
   "source": [
    "Check that model files have been downloaded."
   ]
  },
  {
   "cell_type": "code",
   "execution_count": null,
   "metadata": {},
   "outputs": [],
   "source": [
    "if not os.path.exists(gv.models_path + gv.AGN_gal_model):\n",
    "    subprocess.run(['wget', '--no-check-certificate',\n",
    "                    'https://zenodo.org/' + gv.AGN_gal_model,\n",
    "                    '-O', file_name], check=True, text=True)\n",
    "if not os.path.exists(gv.models_path + gv.cal_AGN_gal_model):\n",
    "    subprocess.run(['wget', '--no-check-certificate',\n",
    "                    'https://zenodo.org/' + gv.cal_AGN_gal_model,\n",
    "                    '-O', file_name], check=True, text=True)\n",
    "if not os.path.exists(gv.models_path + gv.radio_model):\n",
    "    subprocess.run(['wget', '--no-check-certificate',\n",
    "                    'https://zenodo.org/' + gv.radio_model,\n",
    "                    '-O', file_name], check=True, text=True)\n",
    "if not os.path.exists(gv.models_path + gv.cal_radio_model):\n",
    "    subprocess.run(['wget', '--no-check-certificate',\n",
    "                    'https://zenodo.org/' + gv.cal_radio_model,\n",
    "                    '-O', file_name], check=True, text=True)\n",
    "if not os.path.exists(gv.models_path + gv.full_z_model):\n",
    "    subprocess.run(['wget', '--no-check-certificate',\n",
    "                    'https://zenodo.org/' + gv.full_z_model,\n",
    "                    '-O', file_name], check=True, text=True)"
   ]
  },
  {
   "cell_type": "code",
   "execution_count": null,
   "metadata": {},
   "outputs": [],
   "source": [
    "AGN_gal_clf           = pyc.load_model(gv.models_path + gv.AGN_gal_model)  #\n",
    "cal_AGN_gal_clf       = load(gv.models_path + gv.cal_AGN_gal_model)  # calibrated model\n",
    "radio_det_AGN_clf     = pyc.load_model(gv.models_path + gv.radio_model)\n",
    "cal_radio_det_AGN_clf = load(gv.models_path + gv.cal_radio_model)  # calibrated model\n",
    "redshift_reg_rAGN     = pyr.load_model(gv.models_path + gv.full_z_model)"
   ]
  },
  {
   "cell_type": "markdown",
   "metadata": {},
   "source": [
    "#### Run prediction models"
   ]
  },
  {
   "cell_type": "markdown",
   "metadata": {},
   "source": [
    "Run models over all sources in dataset. The user can select, afterwards, sources that would be predicted as radio-detectable AGN (or any other combination of predictions)."
   ]
  },
  {
   "cell_type": "markdown",
   "metadata": {},
   "source": [
    "Classify between AGN and galaxies."
   ]
  },
  {
   "cell_type": "code",
   "execution_count": null,
   "metadata": {},
   "outputs": [],
   "source": [
    "data_df = gf.predict_AGN_gal(data_df, \n",
    "                             AGN_gal_clf,\n",
    "                             cal_AGN_gal_clf,\n",
    "                             gv.AGN_thresh,\n",
    "                             gv.cal_AGN_thresh)"
   ]
  },
  {
   "cell_type": "markdown",
   "metadata": {},
   "source": [
    "Classify between radio-detectable and non radio-detectable sources."
   ]
  },
  {
   "cell_type": "code",
   "execution_count": null,
   "metadata": {},
   "outputs": [],
   "source": [
    "data_df = gf.predict_radio_det(data_df,\n",
    "                               radio_det_AGN_clf,\n",
    "                               cal_radio_det_AGN_clf,\n",
    "                               gv.radio_thresh,\n",
    "                               gv.cal_radio_thresh)"
   ]
  },
  {
   "cell_type": "markdown",
   "metadata": {},
   "source": [
    "Predict photometric redshifts."
   ]
  },
  {
   "cell_type": "code",
   "execution_count": null,
   "metadata": {},
   "outputs": [],
   "source": [
    "data_df = gf.predict_z(data_df, \n",
    "                       redshift_reg_rAGN)"
   ]
  },
  {
   "cell_type": "markdown",
   "metadata": {},
   "source": [
    "Display ten first predictions in data frame."
   ]
  },
  {
   "cell_type": "code",
   "execution_count": null,
   "metadata": {},
   "outputs": [],
   "source": [
    "display(data_df.loc[:10])"
   ]
  }
 ],
 "metadata": {
  "language_info": {
   "name": "python"
  }
 },
 "nbformat": 4,
 "nbformat_minor": 2
}
